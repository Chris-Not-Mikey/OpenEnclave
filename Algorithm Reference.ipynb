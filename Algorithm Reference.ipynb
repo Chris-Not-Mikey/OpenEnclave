{
 "cells": [
  {
   "cell_type": "code",
   "execution_count": 4,
   "id": "00bac037",
   "metadata": {},
   "outputs": [],
   "source": [
    "### BGV Algorithm Reference\n",
    "### Ian MacFarlane and JD Kelly\n",
    "# Implemented so that we know what we're doing\n",
    "\n",
    "using Pkg\n",
    "using Random\n",
    "using LinearAlgebra"
   ]
  },
  {
   "cell_type": "code",
   "execution_count": 8,
   "id": "3441a569",
   "metadata": {},
   "outputs": [
    {
     "name": "stdout",
     "output_type": "stream",
     "text": [
      "ct1 = enc(3, pk, rand(0:1, N), params) = [6577615, -7373]\n",
      "(dec(ct1, sk, params))[1] = 3\n"
     ]
    },
    {
     "data": {
      "text/plain": [
       "3"
      ]
     },
     "execution_count": 8,
     "metadata": {},
     "output_type": "execute_result"
    }
   ],
   "source": [
    "### BGV Implementation Methods\n",
    "n = 32\n",
    "q = 1024\n",
    "p = 64\n",
    "N = Int(ceil(3 * log2(q)))\n",
    "params = (q, p, N, n, )\n",
    "\n",
    "# m = int\n",
    "# pk = Nx2 matrix\n",
    "# n = N vector error noise\n",
    "function enc(m, pk, n, params)\n",
    "    c = [m, 0]\n",
    "    c += transpose(pk) * n\n",
    "    return c\n",
    "end\n",
    "\n",
    "# ct = vector of ints\n",
    "# sk = vector of ints\n",
    "function dec(ct, sk, params)\n",
    "    m = (sk * ct) .% params[1] .% params[2]\n",
    "    return m\n",
    "end\n",
    "\n",
    "# ct1 = vector of ints\n",
    "# ct2 = vector of ints\n",
    "function hAdd(ct1, ct2, params)\n",
    "    ct = ct1 .+ ct2\n",
    "    return ct\n",
    "end\n",
    "\n",
    "# ct1 = \n",
    "# ct2 = \n",
    "function hMult(ct1, ct2, params)\n",
    "    m1 = ct1[1] * ct2[1]\n",
    "    m2 = ct1[2] * ct2[1] + ct1[1] * ct2[2]\n",
    "    m3 = ct1[2] * ct2[2]\n",
    "    m = [m3, m2, m1]\n",
    "    return hRefresh(m,params)\n",
    "end\n",
    "\n",
    "function hRefresh(ct_big, params)\n",
    "    return ct_big\n",
    "end\n",
    "\n",
    "for i in 1:63\n",
    "    ct1 = enc(i, pk, rand((0:1), N), params)\n",
    "    if i != dec(ct1, sk, params)[1]\n",
    "        @show dec(ct1, sk, params)[1]\n",
    "    end\n",
    "    ct2 = enc(2*i, pk, rand((0:1), N), params)\n",
    "    if 3*i != dec(hAdd(ct1,ct2,params), sk, params)[1] && 3*i < 64\n",
    "        @show i\n",
    "    end\n",
    "end\n",
    "\n",
    "@show ct1 = enc(3, pk, rand((0:1), N), params)\n",
    "@show dec(ct1, sk, params)[1]\n",
    "#ct2 = enc(4, pk, rand((0:1), N), params)\n",
    "#@show dec(ct2, sk, params)[1]\n",
    "#@show dec(hMult(ct1,ct2,params), [1 59 59^2], params)[1]"
   ]
  },
  {
   "cell_type": "code",
   "execution_count": 4,
   "id": "8c322662",
   "metadata": {},
   "outputs": [
    {
     "name": "stdout",
     "output_type": "stream",
     "text": [
      "pk * transpose(sk) = [128; 64; 64; 128; 128; 128; 0; 64; 128; 64; 64; 128; 128; 0; 64; 64; 128; 0; 128; 0; 128; 0; 64; 64; 64; 128; 64; 0; 64; 0;;]\n",
      "2 * e = [4, 2, 2, 4, 4, 4, 0, 2, 4, 2, 2, 4, 4, 0, 2, 2, 4, 0, 4, 0, 4, 0, 2, 2, 2, 4, 2, 0, 2, 0]\n"
     ]
    },
    {
     "data": {
      "text/plain": [
       "([1 892], [125900 -141; 727044 -815; … ; 609300 -683; 713600 -800])"
      ]
     },
     "execution_count": 4,
     "metadata": {},
     "output_type": "execute_result"
    }
   ],
   "source": [
    "### BGV High-level Methods\n",
    "\n",
    "function keyGen(params)\n",
    "    sp = rand(0:params[1])\n",
    "    sk = [1 sp]\n",
    "    Ap = rand(0:params[1],(params[3],1))\n",
    "    e = rand(0:2,params[3])\n",
    "    b = Ap * sp + params[2]*e\n",
    "    pk = [b -Ap]\n",
    "    @show pk * transpose(sk)\n",
    "    @show 2*e\n",
    "    return sk, pk\n",
    "end\n",
    "\n",
    "sk, pk = keyGen(params)"
   ]
  },
  {
   "cell_type": "code",
   "execution_count": 25,
   "id": "657dfbce",
   "metadata": {},
   "outputs": [
    {
     "data": {
      "text/html": [
       "123 &#43; 184&#8729;x &#43; 23&#8729;x<sup>2</sup> &#43; 73&#8729;x<sup>3</sup>"
      ],
      "text/latex": [
       "$123 + 184\\cdot x + 23\\cdot x^{2} + 73\\cdot x^{3}$"
      ],
      "text/plain": [
       "Polynomial(123 + 184*x + 23*x^2 + 73*x^3)"
      ]
     },
     "execution_count": 25,
     "metadata": {},
     "output_type": "execute_result"
    }
   ],
   "source": []
  },
  {
   "cell_type": "code",
   "execution_count": null,
   "id": "46d69232",
   "metadata": {},
   "outputs": [],
   "source": []
  }
 ],
 "metadata": {
  "kernelspec": {
   "display_name": "Julia 1.7.0",
   "language": "julia",
   "name": "julia-1.7"
  },
  "language_info": {
   "file_extension": ".jl",
   "mimetype": "application/julia",
   "name": "julia",
   "version": "1.7.0"
  }
 },
 "nbformat": 4,
 "nbformat_minor": 5
}
