{
 "cells": [
  {
   "cell_type": "code",
   "execution_count": 4,
   "id": "00bac037",
   "metadata": {},
   "outputs": [],
   "source": [
    "### BGV Algorithm Reference\n",
    "### Ian MacFarlane and JD Kelly\n",
    "# Implemented so that we know what we're doing\n",
    "\n",
    "using Pkg\n",
    "using Random\n",
    "using LinearAlgebra\n",
    "using Polynomials"
   ]
  },
  {
   "cell_type": "code",
   "execution_count": 7,
   "id": "3441a569",
   "metadata": {},
   "outputs": [
    {
     "name": "stdout",
     "output_type": "stream",
     "text": [
      "ct1 = enc(3, pk, rand(0:1, N), params) = Polynomial{Float64}[Polynomial(1.141027e6), Polynomial(-6000.0)]\n"
     ]
    },
    {
     "data": {
      "text/plain": [
       "2-element Vector{Polynomial{Float64}}:\n",
       " Polynomial(1.141027e6)\n",
       " Polynomial(-6000.0)"
      ]
     },
     "execution_count": 7,
     "metadata": {},
     "output_type": "execute_result"
    }
   ],
   "source": [
    "### BGV Implementation Methods\n",
    "d = 32\n",
    "q = 1024\n",
    "p = 64\n",
    "N = Int(ceil(3 * log2(q)))\n",
    "params = (q, p, N, d, )\n",
    "\n",
    "# m = int\n",
    "# pk = Nx2 matrix\n",
    "# n = N vector error noise\n",
    "function enc(m, pk, n, params)\n",
    "    l = zeros(params[4])\n",
    "    l[1] = m\n",
    "    c = [Polynomial(l), 0]\n",
    "    c += transpose(pk) * n\n",
    "    return c\n",
    "end\n",
    "\n",
    "# ct = vector of ints\n",
    "# sk = vector of ints\n",
    "function dec(ct, sk, params)\n",
    "    m = (sk * ct) .% params[1] .% params[2]\n",
    "    return m\n",
    "end\n",
    "\n",
    "# ct1 = vector of ints\n",
    "# ct2 = vector of ints\n",
    "function hAdd(ct1, ct2, params)\n",
    "    ct = ct1 .+ ct2\n",
    "    return ct\n",
    "end\n",
    "\n",
    "# ct1 = \n",
    "# ct2 = \n",
    "function hMult(ct1, ct2, params)\n",
    "    m1 = ct1[1] * ct2[1]\n",
    "    m2 = ct1[2] * ct2[1] + ct1[1] * ct2[2]\n",
    "    m3 = ct1[2] * ct2[2]\n",
    "    m = [m3, m2, m1]\n",
    "    return hRefresh(m,params)\n",
    "end\n",
    "\n",
    "function hRefresh(ct_big, params)\n",
    "    return ct_big\n",
    "end\n",
    "\n",
    "#for i in 1:63\n",
    "#    ct1 = enc(i, pk, rand((0:1), N), params)\n",
    "#    if i != dec(ct1, sk, params)[1]\n",
    "#        @show dec(ct1, sk, params)[1]\n",
    "#    end\n",
    "    #ct2 = enc(2*i, pk, rand((0:1), N), params)\n",
    "    #if 3*i != dec(hAdd(ct1,ct2,params), sk, params)[1] && 3*i < 64\n",
    "    #    @show i\n",
    "    #end\n",
    "#end\n",
    "\n",
    "@show ct1 = enc(3, pk, rand((0:1), N), params)\n",
    "#@show dec(ct1, sk, params)[1]\n",
    "#ct2 = enc(4, pk, rand((0:1), N), params)\n",
    "#@show dec(ct2, sk, params)[1]\n",
    "#@show dec(hMult(ct1,ct2,params), [1 59 59^2], params)[1]"
   ]
  },
  {
   "cell_type": "code",
   "execution_count": 10,
   "id": "8c322662",
   "metadata": {},
   "outputs": [
    {
     "name": "stdout",
     "output_type": "stream",
     "text": [
      "pk * transpose(sk) = Any[Polynomial(0); Polynomial(64); Polynomial(0); Polynomial(64); Polynomial(0); Polynomial(128); Polynomial(0); Polynomial(64); Polynomial(64); Polynomial(128); Polynomial(128); Polynomial(0); Polynomial(64); Polynomial(0); Polynomial(0); Polynomial(128); Polynomial(128); Polynomial(64); Polynomial(0); Polynomial(128); Polynomial(128); Polynomial(0); Polynomial(128); Polynomial(0); Polynomial(128); Polynomial(128); Polynomial(64); Polynomial(128); Polynomial(64); Polynomial(128);;]\n",
      "2 * e = [0, 2, 0, 2, 0, 4, 0, 2, 2, 4, 4, 0, 2, 0, 0, 4, 4, 2, 0, 4, 4, 0, 4, 0, 4, 4, 2, 4, 2, 4]\n"
     ]
    },
    {
     "data": {
      "text/plain": [
       "(Any[1 Polynomial(245 + 945*x + 634*x^2 + 609*x^3 + 699*x^4 + 858*x^5 + 724*x^6 + 89*x^7 + 457*x^8 + 706*x^9 + 800*x^10 + 192*x^11 + 285*x^12 + 52*x^13 + 507*x^14 + 235*x^15 + 945*x^16 + 533*x^17 + 709*x^18 + 658*x^19 + 432*x^20 + 572*x^21 + 220*x^22 + 143*x^23 + 1010*x^24 + 536*x^25 + 280*x^26 + 385*x^27 + 215*x^28 + 249*x^29 + 328*x^30 + 810*x^31)], Polynomial{Int64}[Polynomial(231770 + 893970*x + 599764*x^2 + 576114*x^3 + 661254*x^4 + 811668*x^5 + 684904*x^6 + 84194*x^7 + 432322*x^8 + 667876*x^9 + 756800*x^10 + 181632*x^11 + 269610*x^12 + 49192*x^13 + 479622*x^14 + 222310*x^15 + 893970*x^16 + 504218*x^17 + 670714*x^18 + 622468*x^19 + 408672*x^20 + 541112*x^21 + 208120*x^22 + 135278*x^23 + 955460*x^24 + 507056*x^25 + 264880*x^26 + 364210*x^27 + 203390*x^28 + 235554*x^29 + 310288*x^30 + 766260*x^31) Polynomial(-946); Polynomial(163234 + 629370*x + 422244*x^2 + 405594*x^3 + 465534*x^4 + 571428*x^5 + 482184*x^6 + 59274*x^7 + 304362*x^8 + 470196*x^9 + 532800*x^10 + 127872*x^11 + 189810*x^12 + 34632*x^13 + 337662*x^14 + 156510*x^15 + 629370*x^16 + 354978*x^17 + 472194*x^18 + 438228*x^19 + 287712*x^20 + 380952*x^21 + 146520*x^22 + 95238*x^23 + 672660*x^24 + 356976*x^25 + 186480*x^26 + 256410*x^27 + 143190*x^28 + 165834*x^29 + 218448*x^30 + 539460*x^31) Polynomial(-666); … ; Polynomial(67929 + 261765*x + 175618*x^2 + 168693*x^3 + 193623*x^4 + 237666*x^5 + 200548*x^6 + 24653*x^7 + 126589*x^8 + 195562*x^9 + 221600*x^10 + 53184*x^11 + 78945*x^12 + 14404*x^13 + 140439*x^14 + 65095*x^15 + 261765*x^16 + 147641*x^17 + 196393*x^18 + 182266*x^19 + 119664*x^20 + 158444*x^21 + 60940*x^22 + 39611*x^23 + 279770*x^24 + 148472*x^25 + 77560*x^26 + 106645*x^27 + 59555*x^28 + 68973*x^29 + 90856*x^30 + 224370*x^31) Polynomial(-277); Polynomial(111603 + 429975*x + 288470*x^2 + 277095*x^3 + 318045*x^4 + 390390*x^5 + 329420*x^6 + 40495*x^7 + 207935*x^8 + 321230*x^9 + 364000*x^10 + 87360*x^11 + 129675*x^12 + 23660*x^13 + 230685*x^14 + 106925*x^15 + 429975*x^16 + 242515*x^17 + 322595*x^18 + 299390*x^19 + 196560*x^20 + 260260*x^21 + 100100*x^22 + 65065*x^23 + 459550*x^24 + 243880*x^25 + 127400*x^26 + 175175*x^27 + 97825*x^28 + 113295*x^29 + 149240*x^30 + 368550*x^31) Polynomial(-455)])"
      ]
     },
     "execution_count": 10,
     "metadata": {},
     "output_type": "execute_result"
    }
   ],
   "source": [
    "### BGV High-level Methods\n",
    "\n",
    "function keyGen(params)\n",
    "    sp = Polynomial[rand(0:params[1], d)]\n",
    "    sk = [1 sp]\n",
    "    Ap = rand(0:params[1],(params[3],1))\n",
    "    e = rand(0:2,params[3])\n",
    "    b = Ap * sp + params[2]*e\n",
    "    pk = [b -Ap]\n",
    "    @show pk * transpose(sk)\n",
    "    @show 2*e\n",
    "    return sk, pk\n",
    "end\n",
    "\n",
    "sk, pk = keyGen(params)"
   ]
  },
  {
   "cell_type": "code",
   "execution_count": 25,
   "id": "657dfbce",
   "metadata": {},
   "outputs": [
    {
     "data": {
      "text/html": [
       "123 &#43; 184&#8729;x &#43; 23&#8729;x<sup>2</sup> &#43; 73&#8729;x<sup>3</sup>"
      ],
      "text/latex": [
       "$123 + 184\\cdot x + 23\\cdot x^{2} + 73\\cdot x^{3}$"
      ],
      "text/plain": [
       "Polynomial(123 + 184*x + 23*x^2 + 73*x^3)"
      ]
     },
     "execution_count": 25,
     "metadata": {},
     "output_type": "execute_result"
    }
   ],
   "source": []
  },
  {
   "cell_type": "code",
   "execution_count": null,
   "id": "46d69232",
   "metadata": {},
   "outputs": [],
   "source": []
  }
 ],
 "metadata": {
  "kernelspec": {
   "display_name": "Julia 1.7.0",
   "language": "julia",
   "name": "julia-1.7"
  },
  "language_info": {
   "file_extension": ".jl",
   "mimetype": "application/julia",
   "name": "julia",
   "version": "1.7.0"
  }
 },
 "nbformat": 4,
 "nbformat_minor": 5
}
